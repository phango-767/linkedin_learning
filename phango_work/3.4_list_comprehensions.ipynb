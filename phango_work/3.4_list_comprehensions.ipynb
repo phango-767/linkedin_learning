{
 "cells": [
  {
   "cell_type": "markdown",
   "metadata": {},
   "source": [
    "### List Comprehensions"
   ]
  },
  {
   "cell_type": "code",
   "execution_count": 1,
   "metadata": {},
   "outputs": [
    {
     "data": {
      "text/plain": [
       "[2, 4, 6, 8, 10]"
      ]
     },
     "execution_count": 1,
     "metadata": {},
     "output_type": "execute_result"
    }
   ],
   "source": [
    "my_list = [1, 2, 3, 4, 5]\n",
    "[2* item for item in my_list] #imporves reability while essentially doing the same thing as the for loop"
   ]
  },
  {
   "cell_type": "code",
   "execution_count": 3,
   "metadata": {},
   "outputs": [
    {
     "name": "stdout",
     "output_type": "stream",
     "text": [
      "[2, 4, 6, 8, 10]\n"
     ]
    }
   ],
   "source": [
    "my_list_2 = []\n",
    "for item in my_list:\n",
    "    my_list_2.append(2 * item)\n",
    "    # print(2 * item)\n",
    "print(my_list_2)"
   ]
  },
  {
   "cell_type": "markdown",
   "metadata": {},
   "source": [
    "### List comprehension with filters"
   ]
  },
  {
   "cell_type": "code",
   "execution_count": 6,
   "metadata": {},
   "outputs": [
    {
     "data": {
      "text/plain": [
       "[0, 10, 20, 30, 40, 50, 60, 70, 80, 90]"
      ]
     },
     "execution_count": 6,
     "metadata": {},
     "output_type": "execute_result"
    }
   ],
   "source": [
    "my_list = list(range(100))\n",
    "filtered_list = [item for item in my_list if item % 10 == 0]\n",
    "filtered_list"
   ]
  },
  {
   "cell_type": "markdown",
   "metadata": {},
   "source": [
    "### List comprehension with functions"
   ]
  },
  {
   "cell_type": "code",
   "execution_count": 16,
   "metadata": {},
   "outputs": [
    {
     "data": {
      "text/plain": [
       "\" 'gmail\""
      ]
     },
     "execution_count": 16,
     "metadata": {},
     "output_type": "execute_result"
    }
   ],
   "source": [
    "my_string = \"My name is Phangoxlo Sishuba and I live in Queenstown; contact me via emaial at sishubaphangoxolo@gmail.com\"\n",
    "my_string.split('@')\n",
    "str(my_string.split('@')).split(',')[1].split('.')[0]"
   ]
  },
  {
   "cell_type": "code",
   "execution_count": 17,
   "metadata": {},
   "outputs": [
    {
     "data": {
      "text/plain": [
       "['My',\n",
       " 'name',\n",
       " 'is',\n",
       " 'Phangoxlo',\n",
       " 'Sishuba',\n",
       " 'and',\n",
       " 'I',\n",
       " 'live',\n",
       " 'in',\n",
       " 'Queenstown;',\n",
       " 'contact',\n",
       " 'me',\n",
       " 'via',\n",
       " 'emaial',\n",
       " 'at',\n",
       " 'sishubaphangoxolo@gmail.com']"
      ]
     },
     "execution_count": 17,
     "metadata": {},
     "output_type": "execute_result"
    }
   ],
   "source": [
    "#If no argument is passed, it splits on whitespaces\n",
    "my_string.split()"
   ]
  },
  {
   "cell_type": "code",
   "execution_count": 22,
   "metadata": {},
   "outputs": [
    {
     "data": {
      "text/plain": [
       "'queenstown'"
      ]
     },
     "execution_count": 22,
     "metadata": {},
     "output_type": "execute_result"
    }
   ],
   "source": [
    "#say we want to write a function that takes a string and cleans it for us\n",
    "def clean_string(word):\n",
    "    return word.replace(',', '').replace('.', '').replace(';', '').lower()\n",
    "\n",
    "clean_string(my_string.split()[9])"
   ]
  },
  {
   "cell_type": "code",
   "execution_count": 28,
   "metadata": {},
   "outputs": [
    {
     "data": {
      "text/plain": [
       "list"
      ]
     },
     "execution_count": 28,
     "metadata": {},
     "output_type": "execute_result"
    }
   ],
   "source": [
    "type(my_string.split())"
   ]
  },
  {
   "cell_type": "code",
   "execution_count": 30,
   "metadata": {},
   "outputs": [
    {
     "data": {
      "text/plain": [
       "['my',\n",
       " 'name',\n",
       " 'is',\n",
       " 'phangoxlo',\n",
       " 'sishuba',\n",
       " 'and',\n",
       " 'i',\n",
       " 'live',\n",
       " 'in',\n",
       " 'queenstown',\n",
       " 'contact',\n",
       " 'me',\n",
       " 'via',\n",
       " 'emaial',\n",
       " 'at',\n",
       " 'sishubaphangoxolo@gmailcom']"
      ]
     },
     "execution_count": 30,
     "metadata": {},
     "output_type": "execute_result"
    }
   ],
   "source": [
    "def clean_list(words):\n",
    "    emp_list = []\n",
    "    for s in words:\n",
    "        emp_list.append(s.replace(',', '').replace('.', '').replace(';', '').lower())\n",
    "    return emp_list\n",
    "\n",
    "clean_list(my_string.split())"
   ]
  },
  {
   "cell_type": "code",
   "execution_count": 32,
   "metadata": {},
   "outputs": [
    {
     "data": {
      "text/plain": [
       "['my', 'is', 'and', 'i', 'in', 'me', 'via', 'at']"
      ]
     },
     "execution_count": 32,
     "metadata": {},
     "output_type": "execute_result"
    }
   ],
   "source": [
    "#list comprehension with functions\n",
    "[clean_string(s) for s in my_string.split() if len(s) <= 3]"
   ]
  },
  {
   "cell_type": "markdown",
   "metadata": {},
   "source": [
    "### Nested list comprehensions"
   ]
  },
  {
   "cell_type": "code",
   "execution_count": 34,
   "metadata": {},
   "outputs": [
    {
     "name": "stdout",
     "output_type": "stream",
     "text": [
      "[['my', 'name', 'is', 'phangoxlo', 'sishuba', 'and', 'i', 'live', 'in', 'queenstown', 'contact', 'me', 'via', 'emaial', 'at', 'sishubaphangoxolo@gmailcom'], ['my', 'name', 'is', 'phangoxlo', 'sishuba', 'and', 'i', 'live', 'in', 'queenstown', 'contact', 'me', 'via', 'emaial', 'at', 'sishubaphangoxolo@gmailcom']]\n"
     ]
    }
   ],
   "source": [
    "print([[clean_string(s) for s in my_string.split()] for senentence in my_string.split('.')])"
   ]
  }
 ],
 "metadata": {
  "kernelspec": {
   "display_name": "python_essentials",
   "language": "python",
   "name": "python3"
  },
  "language_info": {
   "codemirror_mode": {
    "name": "ipython",
    "version": 3
   },
   "file_extension": ".py",
   "mimetype": "text/x-python",
   "name": "python",
   "nbconvert_exporter": "python",
   "pygments_lexer": "ipython3",
   "version": "3.12.2"
  }
 },
 "nbformat": 4,
 "nbformat_minor": 2
}
