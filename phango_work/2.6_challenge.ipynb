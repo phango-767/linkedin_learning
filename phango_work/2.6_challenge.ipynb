{
 "cells": [
  {
   "cell_type": "markdown",
   "metadata": {},
   "source": [
    "### Convert hexadecimal to decimal\n",
    "\n",
    "Hexadecimal, or \"base 16\" uses all of the numbers 0-9, plus a few others oto signify higher numbers:\n",
    "A = 10\n",
    "B = 11\n",
    "C = 12\n",
    "D = 13\n",
    "E = 14\n",
    "F = 15\n",
    "\n",
    "For more information about (and some background on) the hexadecimal numbering system, you can watch this [video](https://www.linkedin.com/learning/comptia-a-plus-core-1-220-1101-cert-prep-6-essentials-of-networking/hexadecimal)\n",
    "\n",
    "### Practice with hexadecimal\n",
    "\n",
    "The hexadecimal number 2A represents teh decimal number 42. Why?\n",
    "\n",
    "The hexadecimal number 2A contains a 2 in the 16's place, plus as A in the 1's place\n",
    "\n",
    "Think about the Decimal number 42 - it contains a 4 in the 10's place and a 2  in the 1's place. \n",
    "\n",
    "Just like Decimal has a *10's* place, hexadecimal has a corresponding *16's place*. \n",
    "\n",
    "So we can convert the hexadecimal 2A into a decimal using:\n",
    "\n",
    "(2 * 16) + (A * 1) = (2 * 16) + (10 * 1) = 42\n",
    "\n",
    "Similarly, the hexadecimal number CAB contains a C in the 256's place, an A in the (or 10) in the 16's place, and a B (or 11) in the 1's place.\n",
    "\n",
    "Just like decimal has a *100's place* (which is 10 * 10), hexadecimal has a *256's place* (which is 16 * 16)\n",
    "\n",
    "(C * 256) + (A * 16) + (B * 1) = (12 * 256) + (10 * 16) + (11 * 1) = 3243\n",
    "\n",
    "#### Your task\n",
    "\n",
    "Write a function to convert a hexadecimal string (Up to three characters long) into a decimal integer. **Do not** use the Python function *int(hexNum)* to do this. Write your own function!\n",
    "\n",
    "#### Parameters\n",
    "\n",
    "*hexNum*: Some value that needs to be converted  into a decimal number, if possible. \n",
    "\n",
    "#### Result\n",
    "\n",
    "*int* The decimal value of the hexadecimal input, or *None* if it is not a valid hexadecimal input"
   ]
  },
  {
   "cell_type": "code",
   "execution_count": 60,
   "metadata": {},
   "outputs": [],
   "source": [
    "hexNumbers = {\n",
    "    '0': 0, '1': 1, '2': 2, '3': 3, '4': 4, '5': 5, '6': 6, '7': 7, '8': 8, '9': 9,\n",
    "    'A': 10, 'B': 11, 'C': 12, 'D': 13, 'E': 14, 'F': 15\n",
    "}\n",
    " \n",
    "def hexToDex(hex):\n",
    "    hex = hex.upper()\n",
    "    if len(hex) > 3 or len(hex) < 1:\n",
    "        print(\"too long. you're hurting me\")\n",
    "        return None \n",
    "    else:\n",
    "        for i in hex:\n",
    "            if i not in hexNumbers:\n",
    "                print(f\"Invalid character detected: {i}\")\n",
    "                print(f\"Input is valid: {hex}\")\n",
    "                return None\n",
    "            else:\n",
    "                if len(hex) == 1:\n",
    "                    return hexNumbers[hex]\n",
    "                elif len(hex) == 2:\n",
    "                    return hexNumbers[hex[0]] * 16 + hexNumbers[hex[1]]\n",
    "                elif len(hex) == 3:\n",
    "                    return (\n",
    "                        hexNumbers[hex[0]] * 256 + \n",
    "                        hexNumbers[hex[1]] * 16 + \n",
    "                        hexNumbers[hex[2]]\n",
    "                    )"
   ]
  },
  {
   "cell_type": "code",
   "execution_count": 79,
   "metadata": {},
   "outputs": [],
   "source": [
    "hexNumbers = {\n",
    "    '0': 0, '1': 1, '2': 2, '3': 3, '4': 4, '5': 5, '6': 6, '7': 7, '8': 8, '9': 9,\n",
    "    'A': 10, 'B': 11, 'C': 12, 'D': 13, 'E': 14, 'F': 15\n",
    "}\n",
    "\n",
    "def hexToDec(hex):\n",
    "    hex = hex.upper()\n",
    "    if len(hex) >3  or len(hex) <1:\n",
    "        return None \n",
    "    \n",
    "    for i in hex:\n",
    "        if i not in hexNumbers:\n",
    "            # print(f\"Invalid character detected: {i}\")\n",
    "            return None\n",
    "        \n",
    "    result = 0\n",
    "    power = len(hex) - 1\n",
    "    for i in hex:\n",
    "        result += hexNumbers[i] * 16 ** power\n",
    "        power -= 1\n",
    "\n",
    "    return result"
   ]
  },
  {
   "cell_type": "code",
   "execution_count": 80,
   "metadata": {},
   "outputs": [
    {
     "name": "stdout",
     "output_type": "stream",
     "text": [
      "810\n"
     ]
    }
   ],
   "source": [
    "print(hexToDec('32a'))"
   ]
  },
  {
   "cell_type": "code",
   "execution_count": 77,
   "metadata": {},
   "outputs": [],
   "source": [
    "hexNumbers = {\n",
    "    '0': 0, '1': 1, '2': 2, '3': 3, '4': 4, '5': 5, '6': 6, '7': 7, '8': 8, '9': 9,\n",
    "    'A': 10, 'B': 11, 'C': 12, 'D': 13, 'E': 14, 'F': 15\n",
    "}\n",
    "\n",
    "def hexToDec(hex_str):\n",
    "    hex_str = hex_str.upper()\n",
    "    \n",
    "    # Length validation\n",
    "    if len(hex_str) > 3 or len(hex_str) < 1:\n",
    "        print(\"Error: Input must be 1-3 characters long\")\n",
    "        return None\n",
    "    \n",
    "    # Character validation\n",
    "    for char in hex_str:\n",
    "        if char not in hexNumbers:\n",
    "            print(f\"Invalid character detected: {char}\")\n",
    "            return None\n",
    "    \n",
    "    # Conversion\n",
    "    result = 0\n",
    "    power = len(hex_str) - 1\n",
    "    for char in hex_str:\n",
    "        result += hexNumbers[char] * (16 ** power)\n",
    "        power -= 1\n",
    "    \n",
    "    return result"
   ]
  },
  {
   "cell_type": "code",
   "execution_count": 2,
   "metadata": {},
   "outputs": [
    {
     "data": {
      "text/plain": [
       "True"
      ]
     },
     "execution_count": 2,
     "metadata": {},
     "output_type": "execute_result"
    }
   ],
   "source": [
    "bool(-1) == 1"
   ]
  }
 ],
 "metadata": {
  "kernelspec": {
   "display_name": "python_essentials",
   "language": "python",
   "name": "python3"
  },
  "language_info": {
   "codemirror_mode": {
    "name": "ipython",
    "version": 3
   },
   "file_extension": ".py",
   "mimetype": "text/x-python",
   "name": "python",
   "nbconvert_exporter": "python",
   "pygments_lexer": "ipython3",
   "version": "3.12.2"
  }
 },
 "nbformat": 4,
 "nbformat_minor": 2
}
