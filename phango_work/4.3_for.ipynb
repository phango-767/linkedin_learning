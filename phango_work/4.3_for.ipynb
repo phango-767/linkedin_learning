{
 "cells": [
  {
   "cell_type": "markdown",
   "metadata": {},
   "source": [
    "### For"
   ]
  },
  {
   "cell_type": "code",
   "execution_count": 1,
   "metadata": {},
   "outputs": [
    {
     "name": "stdout",
     "output_type": "stream",
     "text": [
      "1\n",
      "2\n",
      "3\n",
      "4\n"
     ]
    }
   ],
   "source": [
    "my_list = [1,2,3,4]\n",
    "\n",
    "for item in my_list:\n",
    "    print(item)"
   ]
  },
  {
   "cell_type": "markdown",
   "metadata": {},
   "source": [
    "### Pass"
   ]
  },
  {
   "cell_type": "code",
   "execution_count": 2,
   "metadata": {},
   "outputs": [],
   "source": [
    "animal_lookup = {\n",
    "    'a': ['aardvark', 'antelope'],\n",
    "    'b': ['bear'],\n",
    "    'c': ['cat'],\n",
    "    'd': ['dog']\n",
    "}\n",
    "\n",
    "for letter, animals in animal_lookup.items():\n",
    "    pass\n"
   ]
  },
  {
   "cell_type": "markdown",
   "metadata": {},
   "source": [
    "### Continue"
   ]
  },
  {
   "cell_type": "code",
   "execution_count": 3,
   "metadata": {},
   "outputs": [
    {
     "name": "stdout",
     "output_type": "stream",
     "text": [
      "Only one animal! ['bear']\n",
      "Only one animal! ['cat']\n",
      "Only one animal! ['dog']\n"
     ]
    }
   ],
   "source": [
    "for letter, animals in animal_lookup.items():\n",
    "    if len(animals) > 1:\n",
    "        continue\n",
    "    print(f'Only one animal! {animals}')"
   ]
  },
  {
   "cell_type": "markdown",
   "metadata": {},
   "source": [
    "### Break"
   ]
  },
  {
   "cell_type": "code",
   "execution_count": 4,
   "metadata": {},
   "outputs": [
    {
     "name": "stdout",
     "output_type": "stream",
     "text": [
      "Found 2 animals: ['aardvark', 'antelope']\n"
     ]
    }
   ],
   "source": [
    "#We can loop through and stop partway if we found what we're looking for using the break statement\n",
    "for letter, animals in animal_lookup.items():\n",
    "    if len(animals) > 1:\n",
    "        print(f'Found {len(animals)} animals: {animals}')\n",
    "        break\n",
    "#Note that if there are more instances of two or more animals in our list, we will just stop and exit after the first instance\n"
   ]
  },
  {
   "cell_type": "markdown",
   "metadata": {},
   "source": [
    "### For/ Else"
   ]
  },
  {
   "cell_type": "code",
   "execution_count": 6,
   "metadata": {},
   "outputs": [
    {
     "name": "stdout",
     "output_type": "stream",
     "text": [
      "2 is prime!\n",
      "3 is prime!\n",
      "5 is prime!\n",
      "7 is prime!\n",
      "11 is prime!\n",
      "13 is prime!\n",
      "17 is prime!\n",
      "19 is prime!\n",
      "23 is prime!\n",
      "29 is prime!\n",
      "31 is prime!\n",
      "37 is prime!\n",
      "41 is prime!\n",
      "43 is prime!\n",
      "47 is prime!\n",
      "53 is prime!\n",
      "59 is prime!\n",
      "61 is prime!\n",
      "67 is prime!\n",
      "71 is prime!\n",
      "73 is prime!\n",
      "79 is prime!\n",
      "83 is prime!\n",
      "89 is prime!\n",
      "97 is prime!\n"
     ]
    }
   ],
   "source": [
    "#Let's find all of the primes between 2 and 100\n",
    "\n",
    "for number in range(2, 100):\n",
    "    for factor in range(2, int(number**0.5) + 1):\n",
    "        if number % factor == 0:\n",
    "            break \n",
    "    else:\n",
    "        print(f'{number} is prime!')                "
   ]
  },
  {
   "cell_type": "code",
   "execution_count": 8,
   "metadata": {},
   "outputs": [
    {
     "name": "stdout",
     "output_type": "stream",
     "text": [
      "2 is prime\n",
      "3 is prime\n",
      "5 is prime\n",
      "7 is prime\n",
      "11 is prime\n",
      "13 is prime\n",
      "17 is prime\n",
      "19 is prime\n",
      "23 is prime\n",
      "29 is prime\n",
      "31 is prime\n",
      "37 is prime\n",
      "41 is prime\n",
      "43 is prime\n",
      "47 is prime\n",
      "53 is prime\n",
      "59 is prime\n",
      "61 is prime\n",
      "67 is prime\n",
      "71 is prime\n",
      "73 is prime\n",
      "79 is prime\n",
      "83 is prime\n",
      "89 is prime\n",
      "97 is prime\n"
     ]
    }
   ],
   "source": [
    "#equivalent to the above\n",
    "for number in range (2, 100):\n",
    "    found_factors = False\n",
    "    for factor in range(2, int(number**0.5) + 1):\n",
    "        if number % factor == 0:\n",
    "            found_factors = True\n",
    "            break \n",
    "    if not found_factors:\n",
    "        print(f'{number} is prime')"
   ]
  },
  {
   "cell_type": "code",
   "execution_count": 12,
   "metadata": {},
   "outputs": [],
   "source": [
    "#another way\n",
    "def allPrimesTo(num):\n",
    "    primes = [2]\n",
    "    for number in range(3, num):\n",
    "        sqrtNum = number**0.5\n",
    "        for factor in primes:\n",
    "            if number % factor == 0:\n",
    "                #not prime\n",
    "                break\n",
    "            if factor > sqrtNum:\n",
    "                #it's a prime\n",
    "                primes.append(number)\n",
    "                break\n",
    "    return primes"
   ]
  },
  {
   "cell_type": "code",
   "execution_count": 13,
   "metadata": {},
   "outputs": [
    {
     "data": {
      "text/plain": [
       "[2,\n",
       " 3,\n",
       " 5,\n",
       " 7,\n",
       " 11,\n",
       " 13,\n",
       " 17,\n",
       " 19,\n",
       " 23,\n",
       " 29,\n",
       " 31,\n",
       " 37,\n",
       " 41,\n",
       " 43,\n",
       " 47,\n",
       " 53,\n",
       " 59,\n",
       " 61,\n",
       " 67,\n",
       " 71,\n",
       " 73,\n",
       " 79,\n",
       " 83,\n",
       " 89,\n",
       " 97]"
      ]
     },
     "execution_count": 13,
     "metadata": {},
     "output_type": "execute_result"
    }
   ],
   "source": [
    "allPrimesTo(100)"
   ]
  },
  {
   "cell_type": "code",
   "execution_count": 18,
   "metadata": {},
   "outputs": [],
   "source": [
    "for number in range(1, 100):\n",
    "    if number % 10 == 0:\n",
    "        break\n",
    "else:\n",
    "    print('Let\\'s print something out!')"
   ]
  }
 ],
 "metadata": {
  "kernelspec": {
   "display_name": "python_essentials",
   "language": "python",
   "name": "python3"
  },
  "language_info": {
   "codemirror_mode": {
    "name": "ipython",
    "version": 3
   },
   "file_extension": ".py",
   "mimetype": "text/x-python",
   "name": "python",
   "nbconvert_exporter": "python",
   "pygments_lexer": "ipython3",
   "version": "3.12.2"
  }
 },
 "nbformat": 4,
 "nbformat_minor": 2
}
