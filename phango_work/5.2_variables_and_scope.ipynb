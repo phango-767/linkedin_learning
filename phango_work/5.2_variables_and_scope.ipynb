{
 "cells": [
  {
   "cell_type": "markdown",
   "metadata": {},
   "source": [
    "### Function Scope"
   ]
  },
  {
   "cell_type": "code",
   "execution_count": 1,
   "metadata": {},
   "outputs": [
    {
     "name": "stdout",
     "output_type": "stream",
     "text": [
      "(1, 2, 3)\n",
      "{'operation': 'sum'}\n"
     ]
    }
   ],
   "source": [
    "def performOperation(*args, **kwargs):\n",
    "    print(args)\n",
    "    print(kwargs)\n",
    "\n",
    "performOperation(1, 2, 3, operation = 'sum')"
   ]
  },
  {
   "cell_type": "markdown",
   "metadata": {},
   "source": [
    "#### locals()"
   ]
  },
  {
   "cell_type": "code",
   "execution_count": 2,
   "metadata": {},
   "outputs": [
    {
     "name": "stdout",
     "output_type": "stream",
     "text": [
      "{'num1': 1, 'num2': 2, 'operation': 'multiply'}\n"
     ]
    }
   ],
   "source": [
    "def performOperation(num1, num2, operation = 'sum'):\n",
    "    print(locals())# returns a dictionary of all the varible names that are available locally inside the function\n",
    "\n",
    "performOperation(1,2, operation='multiply')"
   ]
  },
  {
   "cell_type": "markdown",
   "metadata": {},
   "source": [
    "#### globals()"
   ]
  },
  {
   "cell_type": "code",
   "execution_count": 4,
   "metadata": {},
   "outputs": [
    {
     "name": "stdout",
     "output_type": "stream",
     "text": [
      "{'__name__': '__main__', '__doc__': 'Automatically created module for IPython interactive environment', '__package__': None, '__loader__': None, '__spec__': None, '__builtin__': <module 'builtins' (built-in)>, '__builtins__': <module 'builtins' (built-in)>, '_ih': ['', \"def performOperation(*args, **kwargs):\\n    print(args)\\n    print(kwargs)\\n\\nperformOperation(1, 2, 3, operation = 'sum')\", \"def performOperation(num1, num2, operation = 'sum'):\\n    print(locals())\\n\\nperformOperation(1,2, operation='multiply')\", 'globals()', 'print(globals())'], '_oh': {3: {...}}, '_dh': [PosixPath('/home/phango/learning_and_development/linkedin/python_essential_training/phango_work')], 'In': ['', \"def performOperation(*args, **kwargs):\\n    print(args)\\n    print(kwargs)\\n\\nperformOperation(1, 2, 3, operation = 'sum')\", \"def performOperation(num1, num2, operation = 'sum'):\\n    print(locals())\\n\\nperformOperation(1,2, operation='multiply')\", 'globals()', 'print(globals())'], 'Out': {3: {...}}, 'get_ipython': <bound method InteractiveShell.get_ipython of <ipykernel.zmqshell.ZMQInteractiveShell object at 0x7fd0837bed80>>, 'exit': <IPython.core.autocall.ZMQExitAutocall object at 0x7fd0837bf200>, 'quit': <IPython.core.autocall.ZMQExitAutocall object at 0x7fd0837bf200>, 'open': <function open at 0x7fd09d230680>, '_': {...}, '__': '', '___': '', '__vsc_ipynb_file__': '/home/phango/learning_and_development/linkedin/python_essential_training/phango_work/5.2_variables_and_scope.ipynb', '_i': 'globals()', '_ii': \"def performOperation(num1, num2, operation = 'sum'):\\n    print(locals())\\n\\nperformOperation(1,2, operation='multiply')\", '_iii': \"def performOperation(*args, **kwargs):\\n    print(args)\\n    print(kwargs)\\n\\nperformOperation(1, 2, 3, operation = 'sum')\", '_i1': \"def performOperation(*args, **kwargs):\\n    print(args)\\n    print(kwargs)\\n\\nperformOperation(1, 2, 3, operation = 'sum')\", 'performOperation': <function performOperation at 0x7fd082e01760>, '_i2': \"def performOperation(num1, num2, operation = 'sum'):\\n    print(locals())\\n\\nperformOperation(1,2, operation='multiply')\", '_i3': 'globals()', '_3': {...}, '_i4': 'print(globals())'}\n"
     ]
    }
   ],
   "source": [
    "print(globals())"
   ]
  },
  {
   "cell_type": "markdown",
   "metadata": {},
   "source": [
    "### Global and Local scope\n",
    "\n",
    "Let's see how local and global variable scopes interact with each other"
   ]
  },
  {
   "cell_type": "code",
   "execution_count": 6,
   "metadata": {},
   "outputs": [
    {
     "name": "stdout",
     "output_type": "stream",
     "text": [
      "Some global data\n",
      "{'varA': 1, 'varB': 2}\n",
      "Some global data\n",
      "{'varC': 3, 'varB': 4}\n"
     ]
    }
   ],
   "source": [
    "message = 'Some global data' # global variable\n",
    "\n",
    "def function1(varA, varB):\n",
    "    print(message)\n",
    "    print(locals())\n",
    "\n",
    "def function2(varC, varB):\n",
    "    # print(varA) #will raise an error cz varA is defined in function1 and is a local varible there and is not accessable in function2\n",
    "    print(message)\n",
    "    print(locals())\n",
    "\n",
    "function1(1, 2)\n",
    "function2(3, 4)"
   ]
  },
  {
   "cell_type": "code",
   "execution_count": 11,
   "metadata": {},
   "outputs": [
    {
     "name": "stdout",
     "output_type": "stream",
     "text": [
      "1\n",
      "some local data\n",
      "{'varA': 1, 'varB': 2, 'message': 'some local data'}\n",
      "--------------------------------------------------\n",
      "2\n",
      "Some global data\n",
      "{'varC': 3, 'varB': 4}\n"
     ]
    }
   ],
   "source": [
    "#what if we defined varA globally?\n",
    "\n",
    "message = 'Some global data' # global variable\n",
    "varA = 2\n",
    "\n",
    "def function1(varA, varB):\n",
    "    message = 'some local data'\n",
    "    print(varA)\n",
    "    print(message)\n",
    "    print(locals())\n",
    "\n",
    "def function2(varC, varB):\n",
    "    print(varA) \n",
    "    print(message)\n",
    "    print(locals())\n",
    "\n",
    "function1(1, 2)\n",
    "\n",
    "print('-' * 50)\n",
    "\n",
    "function2(3, 4)\n",
    "\n",
    "#note how function1 prints varA as 1 (defined locally) and function2 prints varA as 2 (the one defined globally)"
   ]
  },
  {
   "cell_type": "code",
   "execution_count": 12,
   "metadata": {},
   "outputs": [
    {
     "name": "stdout",
     "output_type": "stream",
     "text": [
      "1\n",
      "inner_function local scope: {'varA': 123, 'varB': 456}\n"
     ]
    }
   ],
   "source": [
    "#We can even define functions inside other functions\n",
    "def function1 (varA, varB):\n",
    "    message = 'Some local data'\n",
    "    print(varA)\n",
    "    def inner_function(varA, varB): #inner function can only be called inside function1\n",
    "        print(f'inner_function local scope: {locals()}')\n",
    "    \n",
    "    inner_function(123, 456)\n",
    "\n",
    "function1(1, 2)"
   ]
  },
  {
   "cell_type": "code",
   "execution_count": 13,
   "metadata": {},
   "outputs": [
    {
     "name": "stdout",
     "output_type": "stream",
     "text": [
      "1\n",
      "{'varA': 1, 'varB': 2, 'message': 'Some local data', 'inner_function': <function function1.<locals>.inner_function at 0x7fd082e62d40>}\n",
      "inner_function local scope: {'varA': 123, 'varB': 456}\n"
     ]
    }
   ],
   "source": [
    "def function1 (varA, varB):\n",
    "    message = 'Some local data'\n",
    "    print(varA)\n",
    "    def inner_function(varA, varB): #inner function can only be called inside function1\n",
    "        print(f'inner_function local scope: {locals()}')\n",
    "    \n",
    "    print(locals()) #note how inner_function is a local variable of function1\n",
    "    inner_function(123, 456)\n",
    "\n",
    "function1(1, 2)"
   ]
  },
  {
   "cell_type": "markdown",
   "metadata": {},
   "source": []
  }
 ],
 "metadata": {
  "kernelspec": {
   "display_name": "python_essentials",
   "language": "python",
   "name": "python3"
  },
  "language_info": {
   "codemirror_mode": {
    "name": "ipython",
    "version": 3
   },
   "file_extension": ".py",
   "mimetype": "text/x-python",
   "name": "python",
   "nbconvert_exporter": "python",
   "pygments_lexer": "ipython3",
   "version": "3.12.2"
  }
 },
 "nbformat": 4,
 "nbformat_minor": 2
}
