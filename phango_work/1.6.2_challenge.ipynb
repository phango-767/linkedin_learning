{
 "cells": [
  {
   "cell_type": "markdown",
   "metadata": {},
   "source": [
    "## Challenge\n",
    "---\n",
    "### Factorial challenge\n",
    "\n",
    "The `factorial` of a number is that number multiplied by all positive whole number leess than it. It is written with an exclamation mark, like \"n!\"\n",
    "\n",
    "So for a given a given number, n: \n",
    "\n",
    "n! = n*(n - 1)*(n - 2)*...* 3  * 2 * 1\n",
    "\n",
    "Or for a more concrete example:\n",
    "\n",
    "5! = 5 * 4 * 3 * 2 * 1 = 120\n",
    "\n",
    "6! = 6 * 5 * 4 * 3 * 2 * 1 = 720\n",
    "\n",
    "etc. \n",
    "\n",
    "The factorial of a number also happens to be the number of ways to arrange a set of items. For example, the possible arrangements of a standard deck of playing cards (containing 52 cards) is 52! \n",
    "\n",
    "Mathematicians have decided that in a set of 0 items (an empty set), there is only one wat to arrange them, therefore: 0! = 1 \n",
    "\n",
    "For the purposes of this challenge, factorials are only defined for positive integers (including 0). If an input is not a positve integer or 0, you shoud return None. \n",
    "\n",
    "#### Your task\n",
    "\n",
    "Write a function called `factorial` that returns the factorial of a number passed in. \n",
    "\n",
    "#### Parameters\n",
    "\n",
    "`num`: 0 or a positive integer that your function should find the factorial of. If it's not one of these, you should return None.\n",
    "\n",
    "#### Result\n",
    "\n",
    "The factorial of that number\n",
    "\n",
    "#### Constraints\n",
    "\n",
    "- If a number is not a positive whole number, make sure your function returns `None`. "
   ]
  },
  {
   "cell_type": "code",
   "execution_count": 44,
   "metadata": {},
   "outputs": [],
   "source": [
    "def factorial(num):\n",
    "    if not isinstance(num, int) or num < 0:  # Check if num is a non-negative integer\n",
    "        return None\n",
    "    result = 1\n",
    "    while num > 0:\n",
    "        result *= num\n",
    "        num -= 1\n",
    "    return result\n"
   ]
  },
  {
   "cell_type": "code",
   "execution_count": 52,
   "metadata": {},
   "outputs": [
    {
     "data": {
      "text/plain": [
       "1"
      ]
     },
     "execution_count": 52,
     "metadata": {},
     "output_type": "execute_result"
    }
   ],
   "source": [
    "factorial(0)"
   ]
  },
  {
   "cell_type": "code",
   "execution_count": 13,
   "metadata": {},
   "outputs": [],
   "source": [
    "class Answer:\n",
    "    @staticmethod\n",
    "    def factorial(num):\n",
    "        # Check if the input is an integer\n",
    "        if not isinstance(num, int) or num < 0:\n",
    "            return None \n",
    "            # raise TypeError(\"Input must be an integer.\")\n",
    "        \n",
    "        # Calculate the factorial\n",
    "        result = 1\n",
    "        while num > 0:\n",
    "            result *= num\n",
    "            num -= 1\n",
    "        \n",
    "        return result\n"
   ]
  },
  {
   "cell_type": "code",
   "execution_count": 54,
   "metadata": {},
   "outputs": [
    {
     "name": "stdout",
     "output_type": "stream",
     "text": [
      "1\n"
     ]
    }
   ],
   "source": [
    "print(Answer.factorial(0))   # Output: 1"
   ]
  },
  {
   "cell_type": "code",
   "execution_count": 8,
   "metadata": {},
   "outputs": [],
   "source": [
    "class Answer:\n",
    "    def __init__(self, num):\n",
    "        self.num = num\n",
    "    \n",
    "    def factorial(self):\n",
    "        if not isinstance(self.num, int) or self.num < 0:\n",
    "            return None \n",
    "            # raise TypeError(\"Input must be an integer.\")\n",
    "        \n",
    "        # Calculate the factorial\n",
    "        result = 1\n",
    "        while self.num > 0:\n",
    "            result *= self.num\n",
    "            self.num -= 1\n",
    "        \n",
    "        return result"
   ]
  },
  {
   "cell_type": "code",
   "execution_count": 14,
   "metadata": {},
   "outputs": [
    {
     "data": {
      "text/plain": [
       "120"
      ]
     },
     "execution_count": 14,
     "metadata": {},
     "output_type": "execute_result"
    }
   ],
   "source": [
    "Answer.factorial(5)"
   ]
  }
 ],
 "metadata": {
  "kernelspec": {
   "display_name": "python_essentials",
   "language": "python",
   "name": "python3"
  },
  "language_info": {
   "codemirror_mode": {
    "name": "ipython",
    "version": 3
   },
   "file_extension": ".py",
   "mimetype": "text/x-python",
   "name": "python",
   "nbconvert_exporter": "python",
   "pygments_lexer": "ipython3",
   "version": "3.12.2"
  }
 },
 "nbformat": 4,
 "nbformat_minor": 2
}
