{
 "cells": [
  {
   "cell_type": "markdown",
   "metadata": {},
   "source": [
    "### Encoding ASCII art\n",
    "\n",
    "A string like 'AAAAABBBBAAA' can be efficiently represented as \"5 A's followed by 4 B's followed by 3 A's\" This is called **run-length encoding**\n",
    "\n",
    "We will use this concept to efficiently compress a string containing an ASCII Art smiley face.\n",
    "\n",
    "#### Task\n",
    "\n",
    "Write a function *encodeString* that will encode a string like 'AAAAABBBBAAA' and return a list of tuples [('A',5), ('B',4), ('A',3)], meaning that the string has \"5 A's, followed by 4 B's, followed by 3 A's\"\n",
    "\n",
    "Write a corresponding function *decodeString* that will take in a list of tuples and print the original string\n",
    "\n",
    "#### Constraints\n",
    "\n",
    "- No need to check inputs; all tst cases will be strings"
   ]
  },
  {
   "cell_type": "code",
   "execution_count": 1,
   "metadata": {},
   "outputs": [],
   "source": [
    "def endodeString(stringVAl):\n",
    "    encodedList = []\n",
    "    prevChar = stringVAl[0]\n",
    "    count = 0\n",
    "    for char in stringVAl:\n",
    "        if prevChar != char:\n",
    "            encodedList.append((prevChar, count))\n",
    "            count = 0\n",
    "        prevChar = char\n",
    "        count += 1\n",
    "\n",
    "    encodedList.append((prevChar, count))\n",
    "    return encodedList"
   ]
  },
  {
   "cell_type": "code",
   "execution_count": 4,
   "metadata": {},
   "outputs": [],
   "source": [
    "def decodeString(encodedList):\n",
    "    decodedString = \"\"\n",
    "    for item in encodedList:\n",
    "        decodedString = decodedString + item[0] * item[1]\n",
    "    return decodedString"
   ]
  },
  {
   "cell_type": "code",
   "execution_count": 3,
   "metadata": {},
   "outputs": [
    {
     "data": {
      "text/plain": [
       "[('A', 4), ('N', 3), ('D', 4)]"
      ]
     },
     "execution_count": 3,
     "metadata": {},
     "output_type": "execute_result"
    }
   ],
   "source": [
    "endodeString(\"AAAANNNDDDD\")"
   ]
  },
  {
   "cell_type": "code",
   "execution_count": 5,
   "metadata": {},
   "outputs": [
    {
     "data": {
      "text/plain": [
       "'AAAANNNDDDD'"
      ]
     },
     "execution_count": 5,
     "metadata": {},
     "output_type": "execute_result"
    }
   ],
   "source": [
    "decodeString([('A', 4), ('N', 3), ('D', 4)])"
   ]
  },
  {
   "cell_type": "code",
   "execution_count": 6,
   "metadata": {},
   "outputs": [],
   "source": [
    "art = '''\n",
    "\n",
    "                                                                                \n",
    "                                                                                \n",
    "                               %%%%%%%%%%%%%%%%%%%                              \n",
    "                        %%%%%%%%%%%%%%%%%%%%%%%%%%%%%%%%%                       \n",
    "                    %%%%%%%%                         %%%%%%%%                   \n",
    "                %%%%%%%                                   %%%%%%                \n",
    "              %%%%%%                                         %%%%%%             \n",
    "           %%%%%%                                               %%%%%           \n",
    "          %%%%%                                                   %%%%%         \n",
    "        %%%%%                                                       %%%%%       \n",
    "       %%%%                 %%%%%              %%%%%                  %%%%      \n",
    "      %%%%                 %%%%%%%            %%%%%%%                  %%%%     \n",
    "     %%%%                  %%%%%%%            %%%%%%%                   %%%%    \n",
    "    %%%%                   %%%%%%%            %%%%%%%                    %%%%   \n",
    "    %%%%                    %%%%%              %%%%%                     %%%%   \n",
    "   %%%%                                                                   %%%%  \n",
    "   %%%%                                                                   %%%%  \n",
    "   %%%%                                                                   %%%%  \n",
    "   %%%%                                                      %%%%        %%%%   \n",
    "    %%%%       %%%%%%                                        %%%%%       %%%%   \n",
    "    %%%%         %%%%                                       %%%%        %%%%    \n",
    "     %%%%         %%%%                                     %%%%         %%%%    \n",
    "      %%%%         %%%%%                                  %%%%         %%%%     \n",
    "       %%%%%         %%%%%                             %%%%%         %%%%%      \n",
    "        %%%%%          %%%%%%                        %%%%%          %%%%        \n",
    "          %%%%%           %%%%%%%               %%%%%%%           %%%%%         \n",
    "            %%%%%             %%%%%%%%%%%%%%%%%%%%%             %%%%%           \n",
    "              %%%%%%%                                        %%%%%              \n",
    "                 %%%%%%%                                 %%%%%%%                \n",
    "                     %%%%%%%%%                     %%%%%%%%%                    \n",
    "                          %%%%%%%%%%%%%%%%%%%%%%%%%%%%%                         \n",
    "                                   %%%%%%%%%%%%                                 \n",
    "                                                                                \n",
    "                                                                                 \n",
    "\n",
    "'''"
   ]
  },
  {
   "cell_type": "code",
   "execution_count": 8,
   "metadata": {},
   "outputs": [
    {
     "name": "stdout",
     "output_type": "stream",
     "text": [
      "[('\\n', 2), (' ', 80), ('\\n', 1), (' ', 80), ('\\n', 1), (' ', 31), ('%', 19), (' ', 30), ('\\n', 1), (' ', 24), ('%', 33), (' ', 23), ('\\n', 1), (' ', 20), ('%', 8), (' ', 25), ('%', 8), (' ', 19), ('\\n', 1), (' ', 16), ('%', 7), (' ', 35), ('%', 6), (' ', 16), ('\\n', 1), (' ', 14), ('%', 6), (' ', 41), ('%', 6), (' ', 13), ('\\n', 1), (' ', 11), ('%', 6), (' ', 47), ('%', 5), (' ', 11), ('\\n', 1), (' ', 10), ('%', 5), (' ', 51), ('%', 5), (' ', 9), ('\\n', 1), (' ', 8), ('%', 5), (' ', 55), ('%', 5), (' ', 7), ('\\n', 1), (' ', 7), ('%', 4), (' ', 17), ('%', 5), (' ', 14), ('%', 5), (' ', 18), ('%', 4), (' ', 6), ('\\n', 1), (' ', 6), ('%', 4), (' ', 17), ('%', 7), (' ', 12), ('%', 7), (' ', 18), ('%', 4), (' ', 5), ('\\n', 1), (' ', 5), ('%', 4), (' ', 18), ('%', 7), (' ', 12), ('%', 7), (' ', 19), ('%', 4), (' ', 4), ('\\n', 1), (' ', 4), ('%', 4), (' ', 19), ('%', 7), (' ', 12), ('%', 7), (' ', 20), ('%', 4), (' ', 3), ('\\n', 1), (' ', 4), ('%', 4), (' ', 20), ('%', 5), (' ', 14), ('%', 5), (' ', 21), ('%', 4), (' ', 3), ('\\n', 1), (' ', 3), ('%', 4), (' ', 67), ('%', 4), (' ', 2), ('\\n', 1), (' ', 3), ('%', 4), (' ', 67), ('%', 4), (' ', 2), ('\\n', 1), (' ', 3), ('%', 4), (' ', 67), ('%', 4), (' ', 2), ('\\n', 1), (' ', 3), ('%', 4), (' ', 54), ('%', 4), (' ', 8), ('%', 4), (' ', 3), ('\\n', 1), (' ', 4), ('%', 4), (' ', 7), ('%', 6), (' ', 40), ('%', 5), (' ', 7), ('%', 4), (' ', 3), ('\\n', 1), (' ', 4), ('%', 4), (' ', 9), ('%', 4), (' ', 39), ('%', 4), (' ', 8), ('%', 4), (' ', 4), ('\\n', 1), (' ', 5), ('%', 4), (' ', 9), ('%', 4), (' ', 37), ('%', 4), (' ', 9), ('%', 4), (' ', 4), ('\\n', 1), (' ', 6), ('%', 4), (' ', 9), ('%', 5), (' ', 34), ('%', 4), (' ', 9), ('%', 4), (' ', 5), ('\\n', 1), (' ', 7), ('%', 5), (' ', 9), ('%', 5), (' ', 29), ('%', 5), (' ', 9), ('%', 5), (' ', 6), ('\\n', 1), (' ', 8), ('%', 5), (' ', 10), ('%', 6), (' ', 24), ('%', 5), (' ', 10), ('%', 4), (' ', 8), ('\\n', 1), (' ', 10), ('%', 5), (' ', 11), ('%', 7), (' ', 15), ('%', 7), (' ', 11), ('%', 5), (' ', 9), ('\\n', 1), (' ', 12), ('%', 5), (' ', 13), ('%', 21), (' ', 13), ('%', 5), (' ', 11), ('\\n', 1), (' ', 14), ('%', 7), (' ', 40), ('%', 5), (' ', 14), ('\\n', 1), (' ', 17), ('%', 7), (' ', 33), ('%', 7), (' ', 16), ('\\n', 1), (' ', 21), ('%', 9), (' ', 21), ('%', 9), (' ', 20), ('\\n', 1), (' ', 26), ('%', 29), (' ', 25), ('\\n', 1), (' ', 35), ('%', 12), (' ', 33), ('\\n', 1), (' ', 80), ('\\n', 1), (' ', 81), ('\\n', 2)]\n"
     ]
    }
   ],
   "source": [
    "encoded = endodeString(art)\n",
    "print(encoded)"
   ]
  },
  {
   "cell_type": "code",
   "execution_count": 9,
   "metadata": {},
   "outputs": [
    {
     "name": "stdout",
     "output_type": "stream",
     "text": [
      "\n",
      "\n",
      "                                                                                \n",
      "                                                                                \n",
      "                               %%%%%%%%%%%%%%%%%%%                              \n",
      "                        %%%%%%%%%%%%%%%%%%%%%%%%%%%%%%%%%                       \n",
      "                    %%%%%%%%                         %%%%%%%%                   \n",
      "                %%%%%%%                                   %%%%%%                \n",
      "              %%%%%%                                         %%%%%%             \n",
      "           %%%%%%                                               %%%%%           \n",
      "          %%%%%                                                   %%%%%         \n",
      "        %%%%%                                                       %%%%%       \n",
      "       %%%%                 %%%%%              %%%%%                  %%%%      \n",
      "      %%%%                 %%%%%%%            %%%%%%%                  %%%%     \n",
      "     %%%%                  %%%%%%%            %%%%%%%                   %%%%    \n",
      "    %%%%                   %%%%%%%            %%%%%%%                    %%%%   \n",
      "    %%%%                    %%%%%              %%%%%                     %%%%   \n",
      "   %%%%                                                                   %%%%  \n",
      "   %%%%                                                                   %%%%  \n",
      "   %%%%                                                                   %%%%  \n",
      "   %%%%                                                      %%%%        %%%%   \n",
      "    %%%%       %%%%%%                                        %%%%%       %%%%   \n",
      "    %%%%         %%%%                                       %%%%        %%%%    \n",
      "     %%%%         %%%%                                     %%%%         %%%%    \n",
      "      %%%%         %%%%%                                  %%%%         %%%%     \n",
      "       %%%%%         %%%%%                             %%%%%         %%%%%      \n",
      "        %%%%%          %%%%%%                        %%%%%          %%%%        \n",
      "          %%%%%           %%%%%%%               %%%%%%%           %%%%%         \n",
      "            %%%%%             %%%%%%%%%%%%%%%%%%%%%             %%%%%           \n",
      "              %%%%%%%                                        %%%%%              \n",
      "                 %%%%%%%                                 %%%%%%%                \n",
      "                     %%%%%%%%%                     %%%%%%%%%                    \n",
      "                          %%%%%%%%%%%%%%%%%%%%%%%%%%%%%                         \n",
      "                                   %%%%%%%%%%%%                                 \n",
      "                                                                                \n",
      "                                                                                 \n",
      "\n",
      "\n"
     ]
    }
   ],
   "source": [
    "print(decodeString(encoded))"
   ]
  },
  {
   "cell_type": "code",
   "execution_count": 10,
   "metadata": {},
   "outputs": [],
   "source": [
    "values = [[1, 'i', 'a'], ['2', 'we', 'be', 'it'], [3, 'are', 'few', 'too']]"
   ]
  },
  {
   "cell_type": "code",
   "execution_count": 13,
   "metadata": {},
   "outputs": [
    {
     "data": {
      "text/plain": [
       "{1: ['i', 'a'], '2': ['we', 'be', 'it'], 3: ['are', 'few', 'too']}"
      ]
     },
     "execution_count": 13,
     "metadata": {},
     "output_type": "execute_result"
    }
   ],
   "source": [
    "\n",
    "{item[0]: item[1:] for item in values}\n"
   ]
  },
  {
   "cell_type": "code",
   "execution_count": 16,
   "metadata": {},
   "outputs": [
    {
     "data": {
      "text/plain": [
       "[100,\n",
       " 95,\n",
       " 90,\n",
       " 85,\n",
       " 80,\n",
       " 75,\n",
       " 70,\n",
       " 65,\n",
       " 60,\n",
       " 55,\n",
       " 50,\n",
       " 45,\n",
       " 40,\n",
       " 35,\n",
       " 30,\n",
       " 25,\n",
       " 20,\n",
       " 15,\n",
       " 10,\n",
       " 5,\n",
       " 0]"
      ]
     },
     "execution_count": 16,
     "metadata": {},
     "output_type": "execute_result"
    }
   ],
   "source": [
    "\n",
    "list(range(101))[::-5]"
   ]
  }
 ],
 "metadata": {
  "kernelspec": {
   "display_name": "python_essentials",
   "language": "python",
   "name": "python3"
  },
  "language_info": {
   "codemirror_mode": {
    "name": "ipython",
    "version": 3
   },
   "file_extension": ".py",
   "mimetype": "text/x-python",
   "name": "python",
   "nbconvert_exporter": "python",
   "pygments_lexer": "ipython3",
   "version": "3.12.2"
  }
 },
 "nbformat": 4,
 "nbformat_minor": 2
}
