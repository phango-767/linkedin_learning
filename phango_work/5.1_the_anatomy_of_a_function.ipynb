{
 "cells": [
  {
   "cell_type": "code",
   "execution_count": 11,
   "metadata": {},
   "outputs": [],
   "source": [
    "import math"
   ]
  },
  {
   "cell_type": "markdown",
   "metadata": {},
   "source": [
    "### Functions"
   ]
  },
  {
   "cell_type": "code",
   "execution_count": 1,
   "metadata": {},
   "outputs": [
    {
     "name": "stdout",
     "output_type": "stream",
     "text": [
      "5\n"
     ]
    }
   ],
   "source": [
    "def performOperation(num1, num2, operation):\n",
    "    if operation.lower() == 'sum':\n",
    "        return num1 + num2\n",
    "    if operation.lower() == 'multiply':\n",
    "        return num1 * num2\n",
    "    \n",
    "print(performOperation(2, 3, 'Sum'))"
   ]
  },
  {
   "cell_type": "markdown",
   "metadata": {},
   "source": [
    "### Named Parameters"
   ]
  },
  {
   "cell_type": "code",
   "execution_count": 2,
   "metadata": {},
   "outputs": [
    {
     "name": "stdout",
     "output_type": "stream",
     "text": [
      "5\n"
     ]
    }
   ],
   "source": [
    "#We can also provide default (keyword) arguments\n",
    "def performOperation(num1, num2, operation = 'sum'):\n",
    "    if operation.lower() == 'sum':\n",
    "        return num1 + num2\n",
    "    if operation.lower() == 'multiply':\n",
    "        return num1 * num2\n",
    "    \n",
    "print(performOperation(2, 3))"
   ]
  },
  {
   "cell_type": "code",
   "execution_count": 6,
   "metadata": {},
   "outputs": [
    {
     "name": "stdout",
     "output_type": "stream",
     "text": [
      "A new message\n",
      "6\n"
     ]
    }
   ],
   "source": [
    "#We can also provide our own value\n",
    "def performOperation(num1, num2, operation = 'sum', message = 'Default message'):\n",
    "    print(message)\n",
    "    if operation.lower() == 'sum':\n",
    "        return num1 + num2\n",
    "    if operation.lower() == 'multiply':\n",
    "        return num1 * num2\n",
    "    \n",
    "print(performOperation(2, 3, operation= 'MULtiply', message='A new message')) # when you're working with a function that can take many arguments, specifying keywords can make code more readable 'operation' in this case"
   ]
  },
  {
   "cell_type": "markdown",
   "metadata": {},
   "source": [
    "- Keyword arguments must come *after* positional arguments\n",
    "- After positional arguments, keyword arguments can be in any order"
   ]
  },
  {
   "cell_type": "markdown",
   "metadata": {},
   "source": [
    "### *args"
   ]
  },
  {
   "cell_type": "code",
   "execution_count": null,
   "metadata": {},
   "outputs": [],
   "source": [
    "#What if we wanted users to pass in any number of values that they want?\n",
    "def performOperation(args):\n",
    "    print(args)\n",
    "\n",
    "performOperation(1, 2, 3) #TypeError"
   ]
  },
  {
   "cell_type": "code",
   "execution_count": 8,
   "metadata": {},
   "outputs": [
    {
     "name": "stdout",
     "output_type": "stream",
     "text": [
      "(1, 2, 3)\n"
     ]
    }
   ],
   "source": [
    "def performOperation(*args):\n",
    "    print(args)\n",
    "\n",
    "performOperation(1, 2, 3)"
   ]
  },
  {
   "cell_type": "code",
   "execution_count": null,
   "metadata": {},
   "outputs": [],
   "source": [
    "#We cannot add/ specify keyword arguemts with *args\n",
    "def performOperation(*args):\n",
    "    print(args)\n",
    "\n",
    "performOperation(1, 2, 3, operation = 'sum') # TypeError"
   ]
  },
  {
   "cell_type": "markdown",
   "metadata": {},
   "source": [
    "### **kwargs"
   ]
  },
  {
   "cell_type": "code",
   "execution_count": 10,
   "metadata": {},
   "outputs": [
    {
     "name": "stdout",
     "output_type": "stream",
     "text": [
      "(1, 2, 3)\n",
      "{'operation': 'sum'}\n"
     ]
    }
   ],
   "source": [
    "def performOperation(*args, **kwargs):\n",
    "    print(args)\n",
    "    print(kwargs)\n",
    "\n",
    "performOperation(1, 2, 3, operation = 'sum')"
   ]
  },
  {
   "cell_type": "code",
   "execution_count": 18,
   "metadata": {},
   "outputs": [
    {
     "data": {
      "text/plain": [
       "10"
      ]
     },
     "execution_count": 18,
     "metadata": {},
     "output_type": "execute_result"
    }
   ],
   "source": [
    "#let's rewrite our function for the ulimate flexibility\n",
    "def  performOperation(*args, operation = 'sum'):\n",
    "    if operation.lower() == 'sum':\n",
    "        return sum(args)\n",
    "    if operation.lower() == 'multiply' or operation.lower() == 'product':\n",
    "        return math.prod(args)\n",
    "    \n",
    "performOperation(1, 2, 3, 4)"
   ]
  },
  {
   "cell_type": "code",
   "execution_count": null,
   "metadata": {},
   "outputs": [],
   "source": []
  }
 ],
 "metadata": {
  "kernelspec": {
   "display_name": "python_essentials",
   "language": "python",
   "name": "python3"
  },
  "language_info": {
   "codemirror_mode": {
    "name": "ipython",
    "version": 3
   },
   "file_extension": ".py",
   "mimetype": "text/x-python",
   "name": "python",
   "nbconvert_exporter": "python",
   "pygments_lexer": "ipython3",
   "version": "3.12.2"
  }
 },
 "nbformat": 4,
 "nbformat_minor": 2
}
