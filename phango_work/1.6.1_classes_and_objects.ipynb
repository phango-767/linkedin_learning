{
 "cells": [
  {
   "cell_type": "markdown",
   "metadata": {},
   "source": [
    "## Classes and Objects"
   ]
  },
  {
   "cell_type": "markdown",
   "metadata": {},
   "source": [
    "A Python class is a great way to keep related collections of functions and attributes labeled and organised. "
   ]
  },
  {
   "cell_type": "code",
   "execution_count": 4,
   "metadata": {},
   "outputs": [],
   "source": [
    "# the classic way to demonstrate classes in Python is by using animals so let's make a class called Dog\n",
    "class Dog: # classes start with uppercase letters\n",
    "    def __init__(self): # init stands for initialization and this function is called whenever an instance of the class Dog is created. \n",
    "        self.name = 'Rover'\n",
    "        self.legs = 4\n",
    "\n",
    "    def speak(self): # self variable here means we have access to any of the attributes or functions in the class `Dog` (above)\n",
    "        print(self.name + ' says: Bark!') # to demonstrate how we have access to the attributes from above, we'll add the name here\n",
    "        # pass"
   ]
  },
  {
   "cell_type": "code",
   "execution_count": 5,
   "metadata": {},
   "outputs": [],
   "source": [
    "#Let's use this class (speak)\n",
    "my_dog = Dog() # here my_dog is equal to a newly created instance of the class Dog\n",
    "another_dog = Dog()"
   ]
  },
  {
   "cell_type": "code",
   "execution_count": 7,
   "metadata": {},
   "outputs": [
    {
     "name": "stdout",
     "output_type": "stream",
     "text": [
      "Rover says: Bark!\n",
      "Rover says: Bark!\n"
     ]
    }
   ],
   "source": [
    "my_dog.speak()\n",
    "another_dog.speak()"
   ]
  },
  {
   "cell_type": "code",
   "execution_count": 2,
   "metadata": {},
   "outputs": [],
   "source": [
    "#we might want to change this to give our dogs different names by providing a name when we initialize a dog\n",
    "class Dog_2: \n",
    "    def __init__(self, name): \n",
    "        self.name = name\n",
    "        self.legs = 4\n",
    "\n",
    "    def speak(self):\n",
    "        print(self.name + ' says: Bark!')"
   ]
  },
  {
   "cell_type": "code",
   "execution_count": 3,
   "metadata": {},
   "outputs": [],
   "source": [
    "my_dog = Dog_2('Rover')\n",
    "another_dog = Dog_2('Rex')"
   ]
  },
  {
   "cell_type": "code",
   "execution_count": 10,
   "metadata": {},
   "outputs": [
    {
     "name": "stdout",
     "output_type": "stream",
     "text": [
      "Rover says: Bark!\n",
      "Rex says: Bark!\n"
     ]
    }
   ],
   "source": [
    "my_dog.speak()\n",
    "another_dog.speak()"
   ]
  },
  {
   "cell_type": "code",
   "execution_count": 4,
   "metadata": {},
   "outputs": [
    {
     "data": {
      "text/plain": [
       "__main__.Dog_2"
      ]
     },
     "execution_count": 4,
     "metadata": {},
     "output_type": "execute_result"
    }
   ],
   "source": [
    "type(Dog_2('Rover')) # this will return the type of the class Dog_2"
   ]
  }
 ],
 "metadata": {
  "kernelspec": {
   "display_name": "python_essentials",
   "language": "python",
   "name": "python3"
  },
  "language_info": {
   "codemirror_mode": {
    "name": "ipython",
    "version": 3
   },
   "file_extension": ".py",
   "mimetype": "text/x-python",
   "name": "python",
   "nbconvert_exporter": "python",
   "pygments_lexer": "ipython3",
   "version": "3.12.2"
  }
 },
 "nbformat": 4,
 "nbformat_minor": 2
}
