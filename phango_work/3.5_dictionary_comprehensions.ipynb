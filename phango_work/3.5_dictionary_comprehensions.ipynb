{
 "cells": [
  {
   "cell_type": "markdown",
   "metadata": {},
   "source": [
    "### Dictionary comprehensions\n",
    "\n",
    "- Generate dictionaries from iterable structures\n",
    "- Very similar to list comprehensions\n",
    "\n",
    "list of tuples can be used as key-value pairs. Tuples work just like lists, except, their values cannot be changed once they are declared."
   ]
  },
  {
   "cell_type": "code",
   "execution_count": 2,
   "metadata": {},
   "outputs": [
    {
     "data": {
      "text/plain": [
       "{'a': 'aardvark', 'b': 'bison', 'c': 'coyote', 'd': 'dog'}"
      ]
     },
     "execution_count": 2,
     "metadata": {},
     "output_type": "execute_result"
    }
   ],
   "source": [
    "#animal list of tuples\n",
    "animal_list = [('a', 'aardvark'), ('b', 'bison'), ('c', 'coyote'), ('d', 'dog')]\n",
    "animals_dict = {item[0]: item[1] for item in animal_list}\n",
    "animals_dict"
   ]
  },
  {
   "cell_type": "code",
   "execution_count": 3,
   "metadata": {},
   "outputs": [
    {
     "data": {
      "text/plain": [
       "{'a': 'aardvark', 'b': 'bison', 'c': 'coyote', 'd': 'dog'}"
      ]
     },
     "execution_count": 3,
     "metadata": {},
     "output_type": "execute_result"
    }
   ],
   "source": [
    "#more elegant way\n",
    "animals_dict = {key: value for key, value  in animal_list}\n",
    "animals_dict"
   ]
  },
  {
   "cell_type": "code",
   "execution_count": 5,
   "metadata": {},
   "outputs": [
    {
     "name": "stdout",
     "output_type": "stream",
     "text": [
      "dict_items([('a', 'aardvark'), ('b', 'bison'), ('c', 'coyote'), ('d', 'dog')])\n",
      "[('a', 'aardvark'), ('b', 'bison'), ('c', 'coyote'), ('d', 'dog')]\n"
     ]
    }
   ],
   "source": [
    "#we can turn a dict into a list with the item() method\n",
    "print(animals_dict.items())\n",
    "print(list(animals_dict.items()))"
   ]
  },
  {
   "cell_type": "code",
   "execution_count": 9,
   "metadata": {},
   "outputs": [
    {
     "data": {
      "text/plain": [
       "[{'letter': 'a', 'name': 'aardvark'},\n",
       " {'letter': 'b', 'name': 'bison'},\n",
       " {'letter': 'c', 'name': 'coyote'},\n",
       " {'letter': 'd', 'name': 'dog'}]"
      ]
     },
     "execution_count": 9,
     "metadata": {},
     "output_type": "execute_result"
    }
   ],
   "source": [
    "#use dictionary comprehension to alter the structure of the output\n",
    "[{'letter': key, 'name': value} for key, value in animals_dict.items()]"
   ]
  }
 ],
 "metadata": {
  "kernelspec": {
   "display_name": "python_essentials",
   "language": "python",
   "name": "python3"
  },
  "language_info": {
   "codemirror_mode": {
    "name": "ipython",
    "version": 3
   },
   "file_extension": ".py",
   "mimetype": "text/x-python",
   "name": "python",
   "nbconvert_exporter": "python",
   "pygments_lexer": "ipython3",
   "version": "3.12.2"
  }
 },
 "nbformat": 4,
 "nbformat_minor": 2
}
